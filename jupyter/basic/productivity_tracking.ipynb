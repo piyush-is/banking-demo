{
 "cells": [
  {
   "cell_type": "code",
   "execution_count": 1,
   "id": "d7aa7f0c",
   "metadata": {},
   "outputs": [
    {
     "name": "stdout",
     "output_type": "stream",
     "text": [
      "Connected to Redis\n"
     ]
    },
    {
     "data": {
      "text/plain": [
       "True"
      ]
     },
     "execution_count": 1,
     "metadata": {},
     "output_type": "execute_result"
    }
   ],
   "source": [
    "import redis\n",
    "import json\n",
    "\n",
    "# Define connection variables\n",
    "host = 'localhost'\n",
    "port =  6379\n",
    "password = None # 'password'\n",
    "\n",
    "# Connect to Redis\n",
    "r = redis.Redis(host=host, port=port, password=password, decode_responses=True)\n",
    "print('Connected to Redis')\n",
    "\n",
    "r.flushdb()"
   ]
  },
  {
   "cell_type": "markdown",
   "id": "use-case-title",
   "metadata": {},
   "source": [
    "# Productivity Tracking\n",
    "\n",
    "## Description of the use case\n",
    "This use case involves tracking employee activities and productivity using Redis Bitmaps. By recording activity data, businesses can monitor productivity levels and identify areas for improvement.\n",
    "\n",
    "## Redis Data Structures Used\n",
    "- **Bitmaps**: To track employee activities and productivity.\n",
    "- **Hashes**: To store additional information about employees.\n"
   ]
  },
  {
   "cell_type": "code",
   "execution_count": 2,
   "id": "demonstrate-use-case",
   "metadata": {},
   "outputs": [
    {
     "name": "stdout",
     "output_type": "stream",
     "text": [
      "Productivity for employee_1001: 40 hours\n",
      "Productivity for employee_1002: 20 hours\n",
      "Productivity for employee_1003: 10 hours\n",
      "Productivity for employee_1004: 35 hours\n",
      "employee_1001: {'name': 'Alice', 'position': 'Developer'}\n",
      "employee_1002: {'name': 'Bob', 'position': 'Designer'}\n",
      "employee_1003: {'name': 'Charlie', 'position': 'Manager'}\n",
      "employee_1004: {'name': 'David', 'position': 'Developer'}\n"
     ]
    }
   ],
   "source": [
    "# Mock data for the use case\n",
    "employee_data = {\n",
    "    'employee_1001': {'name': 'Alice', 'position': 'Developer'},\n",
    "    'employee_1002': {'name': 'Bob', 'position': 'Designer'},\n",
    "    'employee_1003': {'name': 'Charlie', 'position': 'Manager'},\n",
    "    'employee_1004': {'name': 'David', 'position': 'Developer'}\n",
    "}\n",
    "\n",
    "# Use Hashes to store employee information\n",
    "for employee_id, data in employee_data.items():\n",
    "    r.hset(employee_id, mapping=data)\n",
    "\n",
    "# Use Bitmaps to track employee activity (e.g., working hours in a week)\n",
    "# Assume 1 bit per hour, 8 hours per day, 5 days a week = 40 bits per week\n",
    "# 1 indicates the employee was active during that hour, 0 indicates inactivity\n",
    "activity_data = {\n",
    "    'employee_1001': '11111111' * 5,  # Active for all 40 hours\n",
    "    'employee_1002': '11110000' * 5,  # Active for 4 hours each day\n",
    "    'employee_1003': '11000000' * 5,  # Active for 2 hours each day\n",
    "    'employee_1004': '11111110' * 5   # Active for 7 hours each day\n",
    "}\n",
    "\n",
    "for employee_id, activity in activity_data.items():\n",
    "    for i, bit in enumerate(activity):\n",
    "        r.setbit(f'activity:{employee_id}', i, int(bit))\n",
    "\n",
    "# Function to calculate productivity\n",
    "def calculate_productivity(employee_id):\n",
    "    return r.bitcount(f'activity:{employee_id}')\n",
    "\n",
    "# Calculate and print productivity for each employee\n",
    "for employee_id in employee_data.keys():\n",
    "    productivity = calculate_productivity(employee_id)\n",
    "    print(f'Productivity for {employee_id}: {productivity} hours')\n",
    "\n",
    "# Print the employee information\n",
    "for employee_id in employee_data.keys():\n",
    "    print(f\"{employee_id}: {r.hgetall(employee_id)}\")\n"
   ]
  },
  {
   "cell_type": "code",
   "execution_count": null,
   "id": "58f34e1c-0b26-4ef6-a8f3-6fe0880aafce",
   "metadata": {},
   "outputs": [],
   "source": []
  }
 ],
 "metadata": {
  "kernelspec": {
   "display_name": "Python 3 (ipykernel)",
   "language": "python",
   "name": "python3"
  },
  "language_info": {
   "codemirror_mode": {
    "name": "ipython",
    "version": 3
   },
   "file_extension": ".py",
   "mimetype": "text/x-python",
   "name": "python",
   "nbconvert_exporter": "python",
   "pygments_lexer": "ipython3",
   "version": "3.13.1"
  }
 },
 "nbformat": 4,
 "nbformat_minor": 5
}
