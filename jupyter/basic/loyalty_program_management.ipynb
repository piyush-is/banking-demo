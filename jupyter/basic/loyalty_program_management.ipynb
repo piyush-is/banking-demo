{
 "cells": [
  {
   "cell_type": "code",
   "execution_count": 1,
   "id": "ee9a51c8",
   "metadata": {},
   "outputs": [
    {
     "name": "stdout",
     "output_type": "stream",
     "text": [
      "Connected to Redis\n"
     ]
    },
    {
     "data": {
      "text/plain": [
       "True"
      ]
     },
     "execution_count": 1,
     "metadata": {},
     "output_type": "execute_result"
    }
   ],
   "source": [
    "import redis\n",
    "import json\n",
    "\n",
    "# Define connection variables\n",
    "host = 'localhost'\n",
    "port =  6379\n",
    "password = None #'password'\n",
    "\n",
    "# Connect to Redis\n",
    "r = redis.Redis(host=host, port=port, password=password, decode_responses=True)\n",
    "print('Connected to Redis')\n",
    "\n",
    "r.flushdb()"
   ]
  },
  {
   "cell_type": "markdown",
   "id": "use-case-title",
   "metadata": {},
   "source": [
    "# Loyalty Program Management\n",
    "\n",
    "## Description of the use case\n",
    "This use case involves managing a loyalty program where customers earn points for their purchases on Credit Cards, which can be redeemed for discounts or rewards. This helps in retaining customers and encouraging repeat purchases.\n",
    "\n",
    "## Redis Data Structures Used\n",
    "- **Hashes**: To store customer loyalty points and reward information.\n",
    "- **Sorted Sets**: To rank customers based on their loyalty points."
   ]
  },
  {
   "cell_type": "code",
   "execution_count": 2,
   "id": "demonstrate-use-case",
   "metadata": {},
   "outputs": [
    {
     "name": "stdout",
     "output_type": "stream",
     "text": [
      "cust_1: {'name': 'Amit', 'loyalty_points': '1300'}\n",
      "cust_2: {'name': 'Vikas', 'loyalty_points': '1000'}\n",
      "cust_3: {'name': 'Akash', 'loyalty_points': '1500'}\n",
      "Ranked Customers by Loyalty Points:\n",
      "('cust_3', 1500.0)\n",
      "('cust_1', 1300.0)\n",
      "('cust_2', 1000.0)\n"
     ]
    }
   ],
   "source": [
    "# Mock data for the use case\n",
    "mock_data = {\n",
    "    'cust_1': {'name': 'Amit', 'loyalty_points': 1200},\n",
    "    'cust_2': {'name': 'Vikas', 'loyalty_points': 800},\n",
    "    'cust_3': {'name': 'Akash', 'loyalty_points': 1500},\n",
    "}\n",
    "\n",
    "# Use Hashes to store customer loyalty points and reward information\n",
    "for customer_id, customer_info in mock_data.items():\n",
    "    r.hset(customer_id, mapping=customer_info)\n",
    "\n",
    "# Use Sorted Sets to rank customers based on their loyalty points\n",
    "for customer_id, customer_info in mock_data.items():\n",
    "    r.zadd('customer_loyalty', {customer_id: customer_info['loyalty_points']})\n",
    "\n",
    "# Function to add loyalty points to a customer\n",
    "def add_loyalty_points(customer_id, points):\n",
    "    r.hincrby(customer_id, 'loyalty_points', points)\n",
    "    new_points = int(r.hget(customer_id, 'loyalty_points'))\n",
    "    r.zadd('customer_loyalty', {customer_id: new_points})\n",
    "\n",
    "# Add loyalty points to customers\n",
    "add_loyalty_points('cust_1', 100)\n",
    "add_loyalty_points('cust_2', 200)\n",
    "\n",
    "# Print the updated customer loyalty information\n",
    "for customer_id in mock_data.keys():\n",
    "    print(f\"{customer_id}: {r.hgetall(customer_id)}\")\n",
    "\n",
    "# Print the ranked customers by loyalty points\n",
    "ranked_customers = r.zrange('customer_loyalty', 0, -1, withscores=True, desc=True)\n",
    "print('Ranked Customers by Loyalty Points:')\n",
    "for customer in ranked_customers:\n",
    "    print(customer)"
   ]
  },
  {
   "cell_type": "code",
   "execution_count": null,
   "id": "5979ee55-20ca-43c2-a716-e29b826de9fb",
   "metadata": {},
   "outputs": [],
   "source": []
  }
 ],
 "metadata": {
  "kernelspec": {
   "display_name": "Python 3 (ipykernel)",
   "language": "python",
   "name": "python3"
  },
  "language_info": {
   "codemirror_mode": {
    "name": "ipython",
    "version": 3
   },
   "file_extension": ".py",
   "mimetype": "text/x-python",
   "name": "python",
   "nbconvert_exporter": "python",
   "pygments_lexer": "ipython3",
   "version": "3.13.1"
  }
 },
 "nbformat": 4,
 "nbformat_minor": 5
}
