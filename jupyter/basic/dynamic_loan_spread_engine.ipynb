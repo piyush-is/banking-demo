{
 "cells": [
  {
   "cell_type": "code",
   "execution_count": 1,
   "id": "959c5f78",
   "metadata": {},
   "outputs": [
    {
     "name": "stdout",
     "output_type": "stream",
     "text": [
      "Connected to Redis\n"
     ]
    },
    {
     "data": {
      "text/plain": [
       "True"
      ]
     },
     "execution_count": 1,
     "metadata": {},
     "output_type": "execute_result"
    }
   ],
   "source": [
    "import redis\n",
    "import json\n",
    "\n",
    "# Define connection variables\n",
    "host = 'localhost'\n",
    "port =  6379\n",
    "password = None #'<password>'\n",
    "\n",
    "# Connect to Redis\n",
    "r = redis.Redis(host=host, port=port, password=password, decode_responses=True)\n",
    "print('Connected to Redis')\n",
    "\n",
    "r.flushdb()"
   ]
  },
  {
   "cell_type": "markdown",
   "id": "use-case-title",
   "metadata": {},
   "source": [
    "# Dynamic Loan Spread Engine\n",
    "\n",
    "## Description of the use case\n",
    "A dynamic Loan Spread engine adjusts the loan spread based on the credit rating in real-time based on factors like User credit rating and amount of loan amount. This use case ensures that loan strategies are optimized to maximize revenue and profitability.\n",
    "\n",
    "## Redis Data Structures Used\n",
    "- **Sorted Sets**: To manage loan base_rate.\n",
    "- **Hashes**: To store product pricing information and other related attributes."
   ]
  },
  {
   "cell_type": "code",
   "execution_count": 7,
   "id": "demonstrate-use-case",
   "metadata": {},
   "outputs": [
    {
     "name": "stdout",
     "output_type": "stream",
     "text": [
      "Product Info : product_1 : {'name': 'home_loan', 'base_rate': 7.25}\n",
      "Product Info : product_2 : {'name': 'personal_loan', 'base_rate': 10.5}\n",
      "User Info : usr_1 : {'name': 'Amit', 'credit_rating': 825}\n",
      "User Info : usr_2 : {'name': 'Sunil', 'credit_rating': 675}\n",
      "User Info : usr_3 : {'name': 'Dilip', 'credit_rating': 840}\n",
      "User Info : usr_4 : {'name': 'Akash', 'credit_rating': 795}\n",
      "User Info : usr_5 : {'name': 'Vikas', 'credit_rating': 775}\n",
      "usr_1\n",
      "825\n",
      "usr_2\n",
      "675\n",
      "usr_3\n",
      "840\n",
      "usr_4\n",
      "795\n",
      "usr_5\n",
      "775\n",
      "New Updated Loan Spread :usr_1: {'name': 'Amit', 'credit_rating': '825', 'home_loan': '8.0', 'personal_loan': '11.25'}\n",
      "New Updated Loan Spread :usr_2: {'name': 'Sunil', 'credit_rating': '675', 'home_loan': '9.5', 'personal_loan': '12.75'}\n",
      "New Updated Loan Spread :usr_3: {'name': 'Dilip', 'credit_rating': '840', 'home_loan': '7.85', 'personal_loan': '11.1'}\n",
      "New Updated Loan Spread :usr_4: {'name': 'Akash', 'credit_rating': '795', 'home_loan': '8.3', 'personal_loan': '11.55'}\n",
      "New Updated Loan Spread :usr_5: {'name': 'Vikas', 'credit_rating': '775', 'home_loan': '8.5', 'personal_loan': '11.75'}\n"
     ]
    }
   ],
   "source": [
    "import random\n",
    "\n",
    "# Mock data for the use case\n",
    "prd_data = {\n",
    "    'product_1': {'name': 'home_loan', 'base_rate': 7.25},\n",
    "    'product_2': {'name': 'personal_loan', 'base_rate': 10.5}\n",
    "}\n",
    "\n",
    "user_data = {\n",
    "    'usr_1': {'name': 'Amit', 'credit_rating': 825},\n",
    "    'usr_2': {'name': 'Sunil', 'credit_rating': 675},\n",
    "    'usr_3': {'name': 'Dilip', 'credit_rating': 840},\n",
    "    'usr_4': {'name': 'Akash', 'credit_rating': 795},\n",
    "    'usr_5': {'name': 'Vikas', 'credit_rating': 775}\n",
    "}\n",
    "\n",
    "# Use Hashes to store product rate information\n",
    "for product_id, product_info in prd_data.items():\n",
    "    r.hset(product_id, mapping=product_info)\n",
    "    print(f\"Product Info : {product_id} : {product_info}\")\n",
    "\n",
    "# Use Hashes to store user information\n",
    "for user_id, user_info in user_data.items():\n",
    "    r.hset(user_id, mapping=user_info)\n",
    "    print(f\"User Info : {user_id} : {user_info}\")\n",
    "\n",
    "# Dynamic pricing algorithm\n",
    "def dynamic_spread_engine(credit_rating, base_rate):\n",
    "    new_price = base_rate + ((900-credit_rating) * 0.01)  \n",
    "    return new_price\n",
    "\n",
    "# iterate over users and calculate loan rates\n",
    "for user_id in user_data.keys():\n",
    "    credit_rating = int(r.hget(user_id, 'credit_rating'))\n",
    "    # Update prices for all products\n",
    "    for product_id in prd_data.keys():\n",
    "        base_rate = float(r.hget(product_id, 'base_rate'))\n",
    "        product_name = r.hget(product_id, 'name')\n",
    "        updated_rate = dynamic_spread_engine(credit_rating, base_rate)\n",
    "        r.hset(user_id, product_name, updated_rate)\n",
    "        #print(f\"Updated rate for {product_id}: {updated_rate}\")\n",
    "\n",
    "# Print the updated pricing information\n",
    "for user_id in user_data.keys():\n",
    "    print(f\"New Updated Loan Spread :{user_id}: {r.hgetall(user_id)}\")\n",
    "\n",
    "\n"
   ]
  }
 ],
 "metadata": {
  "kernelspec": {
   "display_name": "Python 3 (ipykernel)",
   "language": "python",
   "name": "python3"
  },
  "language_info": {
   "codemirror_mode": {
    "name": "ipython",
    "version": 3
   },
   "file_extension": ".py",
   "mimetype": "text/x-python",
   "name": "python",
   "nbconvert_exporter": "python",
   "pygments_lexer": "ipython3",
   "version": "3.13.1"
  }
 },
 "nbformat": 4,
 "nbformat_minor": 5
}
