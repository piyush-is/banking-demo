{
 "cells": [
  {
   "cell_type": "code",
   "execution_count": 1,
   "id": "243abb3b",
   "metadata": {},
   "outputs": [
    {
     "name": "stdout",
     "output_type": "stream",
     "text": [
      "Connected to Redis\n"
     ]
    },
    {
     "data": {
      "text/plain": [
       "True"
      ]
     },
     "execution_count": 1,
     "metadata": {},
     "output_type": "execute_result"
    }
   ],
   "source": [
    "import redis\n",
    "import json\n",
    "\n",
    "# Define connection variables\n",
    "host = 'localhost'\n",
    "port =  6379\n",
    "password = None #'password'\n",
    "\n",
    "# Connect to Redis\n",
    "r = redis.Redis(host=host, port=port, password=password, decode_responses=True)\n",
    "print('Connected to Redis')\n",
    "\n",
    "r.flushdb()"
   ]
  },
  {
   "cell_type": "markdown",
   "id": "use-case-title",
   "metadata": {},
   "source": [
    "# Sales Performance Monitoring\n",
    "\n",
    "## Description of the use case\n",
    "This use case involves monitoring sales performance in real-time to track key metrics such as revenue, units sold, and average order value. By using real-time data, businesses can make informed decisions and quickly respond to market changes.\n",
    "\n",
    "## Redis Data Structures Used\n",
    "- **Hashes**: To store sales data for each product.\n",
    "- **Streams**: To capture and process real-time sales transactions.\n",
    "- **Sorted Sets**: To rank products based on sales performance.\n"
   ]
  },
  {
   "cell_type": "code",
   "execution_count": 3,
   "id": "demonstrate-use-case",
   "metadata": {},
   "outputs": [
    {
     "name": "stdout",
     "output_type": "stream",
     "text": [
      "product_1001: {'name': 'Fixed Deposits', 'revenue': '5050100', 'units_sold': '104', 'avg_order_value': '48558.65'}\n",
      "product_1002: {'name': 'Personal Loan', 'revenue': '80000150', 'units_sold': '156', 'avg_order_value': '512821.47'}\n",
      "product_1003: {'name': 'Home Loan', 'revenue': '37500500', 'units_sold': '64', 'avg_order_value': '585945.31'}\n",
      "product_1004: {'name': 'Savings Account', 'revenue': '27004', 'units_sold': '906', 'avg_order_value': '29.81'}\n",
      "Sales Performance Ranking:\n",
      "('product_1002', 80000150.0)\n",
      "('product_1003', 37500500.0)\n",
      "('product_1001', 5050100.0)\n",
      "('product_1004', 27004.0)\n"
     ]
    }
   ],
   "source": [
    "# Mock data for the use case\n",
    "sales_data = {\n",
    "    'product_1001': {'name': 'Fixed Deposits', 'revenue': 5000000, 'units_sold': 100},\n",
    "    'product_1002': {'name': 'Personal Loan', 'revenue': 75000000, 'units_sold': 150},\n",
    "    'product_1003': {'name': 'Home Loan', 'revenue': 30000000, 'units_sold': 60},\n",
    "    'product_1004': {'name': 'Savings Account', 'revenue': 2000, 'units_sold': 900}\n",
    "}\n",
    "\n",
    "# Use Hashes to store sales data for each product\n",
    "for product_id, data in sales_data.items():\n",
    "    r.hset(product_id, mapping=data)\n",
    "    r.zadd('sales_performance', {product_id: data['revenue']})\n",
    "\n",
    "# Use Streams to capture real-time sales transactions\n",
    "r.xadd('sales_transactions', {'order_id': 'product_1001', 'revenue': 50000, 'units_sold': 2})\n",
    "r.xadd('sales_transactions', {'order_id': 'product_1002', 'revenue': 5000000, 'units_sold': 3})\n",
    "r.xadd('sales_transactions', {'order_id': 'product_1003', 'revenue': 7500000, 'units_sold': 2})\n",
    "r.xadd('sales_transactions', {'order_id': 'product_1004', 'revenue': 25000, 'units_sold': 3})\n",
    "\n",
    "# Function to process sales transactions and update performance metrics\n",
    "def process_sales_transactions():\n",
    "    stream_entries = r.xrange('sales_transactions')\n",
    "    for entry in stream_entries:\n",
    "        product_id = entry[1]['order_id']\n",
    "        revenue = int(entry[1]['revenue'])\n",
    "        units_sold = int(entry[1]['units_sold'])\n",
    "        r.hincrby(product_id, 'revenue', revenue)\n",
    "        r.hincrby(product_id, 'units_sold', units_sold)\n",
    "        avg_order_value = int(r.hget(product_id, 'revenue')) / int(r.hget(product_id, 'units_sold'))\n",
    "        r.hset(product_id, 'avg_order_value', round(avg_order_value,2))\n",
    "        r.zincrby('sales_performance', revenue, product_id)\n",
    "\n",
    "# Process the sales transactions\n",
    "process_sales_transactions()\n",
    "\n",
    "# Print the updated sales data\n",
    "for product_id in sales_data.keys():\n",
    "    print(f\"{product_id}: {r.hgetall(product_id)}\")\n",
    "\n",
    "# Print the sales performance ranking\n",
    "sales_performance = r.zrange('sales_performance', 0, -1, withscores=True, desc=True)\n",
    "print('Sales Performance Ranking:')\n",
    "for product in sales_performance:\n",
    "    print(product)\n"
   ]
  },
  {
   "cell_type": "code",
   "execution_count": null,
   "id": "31dadbd4-604a-4833-bc64-13f63644c156",
   "metadata": {},
   "outputs": [],
   "source": []
  }
 ],
 "metadata": {
  "kernelspec": {
   "display_name": "Python 3 (ipykernel)",
   "language": "python",
   "name": "python3"
  },
  "language_info": {
   "codemirror_mode": {
    "name": "ipython",
    "version": 3
   },
   "file_extension": ".py",
   "mimetype": "text/x-python",
   "name": "python",
   "nbconvert_exporter": "python",
   "pygments_lexer": "ipython3",
   "version": "3.13.1"
  }
 },
 "nbformat": 4,
 "nbformat_minor": 5
}
