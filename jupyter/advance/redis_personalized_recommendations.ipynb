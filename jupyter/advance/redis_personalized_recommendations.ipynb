{
 "cells": [
  {
   "cell_type": "code",
   "execution_count": 5,
   "metadata": {
    "scrolled": true
   },
   "outputs": [
    {
     "name": "stdout",
     "output_type": "stream",
     "text": [
      "Connected to Redis\n"
     ]
    },
    {
     "data": {
      "text/plain": [
       "True"
      ]
     },
     "execution_count": 5,
     "metadata": {},
     "output_type": "execute_result"
    }
   ],
   "source": [
    "import redis\n",
    "import json\n",
    "\n",
    "# Define connection variables\n",
    "host = 'localhost'\n",
    "port =  6379\n",
    "password = None #'mypassword'\n",
    "\n",
    "# Connect to Redis\n",
    "r = redis.Redis(host=host, port=port, password=password, decode_responses=True)\n",
    "print('Connected to Redis')\n",
    "\n",
    "r.flushdb()"
   ]
  },
  {
   "cell_type": "markdown",
   "metadata": {},
   "source": [
    "# Personalized Product Recommendations\n",
    "## Description\n",
    "This use case demonstrates how to provide personalized product recommendations to users based on their past interactions and preferences.\n",
    "\n",
    "## Redis Data Structures Used\n",
    "- JSON\n",
    "- Search"
   ]
  },
  {
   "cell_type": "code",
   "execution_count": 7,
   "metadata": {},
   "outputs": [
    {
     "name": "stdout",
     "output_type": "stream",
     "text": [
      "User (1001) Category Preferences : ['loan', 'cards']\n",
      "User (1001) Recent Views : ['product:2001', 'product:2002']\n",
      "Recommendations for user 1001:\n",
      "{'category': 'loan', 'name': 'Personal Loan', 'base_rate': 10.5}\n",
      "{'category': 'loan', 'name': 'Overdraft Account', 'base_rate': 0}\n",
      "{'category': 'cards', 'name': 'Silver Card', 'eligibility': 'salary > 25000 pm'}\n"
     ]
    }
   ],
   "source": [
    "r.flushdb()\n",
    "# Mock data for personalized product recommendations\n",
    "mock_data = {\n",
    "    'user:1001': {'preferences': ['loan', 'cards'], 'recent_views': ['product:2001', 'product:2002']},\n",
    "    'product:2001': {'category': 'loan', 'name': 'Home Loan', 'base_rate': 7.5},\n",
    "    'product:2002': {'category': 'cards', 'name': 'Gold Card', 'eligibility': 'salary > 1 Lakh pm'},\n",
    "    'product:2003': {'category': 'savings', 'name': 'Savings Account', 'base_rate': 2.5},\n",
    "    'product:2004': {'category': 'loan', 'name': 'Personal Loan', 'base_rate':10.5 },\n",
    "    'product:3001': {'category': 'savings', 'name': 'Fixed Deposit (short)', 'base_rate': 4.5},\n",
    "    'product:3002': {'category': 'savings', 'name': 'Fixed Deposit (long)', 'base_rate': 6.5},\n",
    "    'product:3003': {'category': 'cards', 'name': 'Silver Card', 'eligibility': 'salary > 25000 pm'},\n",
    "    'product:3004': {'category': 'loan', 'name': 'Overdraft Account', 'base_rate': 0}\n",
    "}\n",
    "\n",
    "# Ingest mock data into Redis\n",
    "for key, value in mock_data.items():\n",
    "    r.json().set(key, '$', json.dumps(value))\n",
    "\n",
    "# Function to get personalized recommendations\n",
    "def get_personalized_recommendations(user_id):\n",
    "    user_data = json.loads(client.json().get(f'user:{user_id}', '$')[0])\n",
    "    preferences = user_data['preferences']\n",
    "    print(f\"User ({user_id}) Category Preferences : {preferences}\")\n",
    "    recent_views = user_data['recent_views']\n",
    "    print(f\"User ({user_id}) Recent Views : {recent_views}\")\n",
    "    recommendations = []\n",
    "    for pref in preferences:\n",
    "        for key in client.scan_iter(match='product:*'):\n",
    "            product = json.loads(client.json().get(key, '$')[0])\n",
    "            if product['category'] == pref and key not in recent_views:\n",
    "                recommendations.append(product)\n",
    "    return recommendations\n",
    "\n",
    "# Get recommendations for a user\n",
    "user_id = 1001\n",
    "recommendations = get_personalized_recommendations(user_id)\n",
    "print(f'Recommendations for user {user_id}:')\n",
    "for x in recommendations:print(x)"
   ]
  },
  {
   "cell_type": "markdown",
   "metadata": {},
   "source": []
  }
 ],
 "metadata": {
  "kernelspec": {
   "display_name": "Python 3 (ipykernel)",
   "language": "python",
   "name": "python3"
  },
  "language_info": {
   "codemirror_mode": {
    "name": "ipython",
    "version": 3
   },
   "file_extension": ".py",
   "mimetype": "text/x-python",
   "name": "python",
   "nbconvert_exporter": "python",
   "pygments_lexer": "ipython3",
   "version": "3.13.1"
  }
 },
 "nbformat": 4,
 "nbformat_minor": 4
}
