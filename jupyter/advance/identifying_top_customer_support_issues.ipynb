{
 "cells": [
  {
   "cell_type": "code",
   "execution_count": 1,
   "id": "2e439e3f",
   "metadata": {},
   "outputs": [
    {
     "name": "stdout",
     "output_type": "stream",
     "text": [
      "Connected to Redis\n"
     ]
    },
    {
     "data": {
      "text/plain": [
       "True"
      ]
     },
     "execution_count": 1,
     "metadata": {},
     "output_type": "execute_result"
    }
   ],
   "source": [
    "import redis\n",
    "import json\n",
    "\n",
    "# Define connection variables\n",
    "host = 'localhost'\n",
    "port =  6379\n",
    "password = None #'password'\n",
    "\n",
    "# Connect to Redis\n",
    "r = redis.Redis(host=host, port=port, password=password, decode_responses=True)\n",
    "print('Connected to Redis')\n",
    "\n",
    "r.flushdb()"
   ]
  },
  {
   "cell_type": "markdown",
   "id": "use-case-title",
   "metadata": {},
   "source": [
    "# Identifying Top Customer Support Issues\n",
    "\n",
    "## Description of the use case\n",
    "This use case involves identifying the most common customer support issues to prioritize and address them effectively. By tracking and analyzing support tickets, banks can improve their customer service or build feature enhancements to address the concerns.\n",
    "\n",
    "## Redis Data Structures Used\n",
    "- **Hashes**: To store support ticket information.\n",
    "- **Streams**: To capture and process real-time support ticket submissions.\n",
    "- **Top-K**: To identify the most frequent support issues."
   ]
  },
  {
   "cell_type": "code",
   "execution_count": 2,
   "id": "demonstrate-use-case",
   "metadata": {},
   "outputs": [
    {
     "name": "stdout",
     "output_type": "stream",
     "text": [
      "Top Customer Support Issues:\n",
      "payment_gway_issue\n",
      "login_problem\n",
      "ui_issue\n"
     ]
    }
   ],
   "source": [
    "# Use Streams to capture real-time support ticket submissions\n",
    "r.xadd('support_tickets', {'ticket_id': 'ticket_1001', 'issue': 'login_problem'})\n",
    "r.xadd('support_tickets', {'ticket_id': 'ticket_1002', 'issue': 'payment_gway_issue'})\n",
    "r.xadd('support_tickets', {'ticket_id': 'ticket_1003', 'issue': 'login_problem'})\n",
    "r.xadd('support_tickets', {'ticket_id': 'ticket_1004', 'issue': 'ui_issue'})\n",
    "r.xadd('support_tickets', {'ticket_id': 'ticket_1005', 'issue': 'payment_gway_issue'})\n",
    "r.xadd('support_tickets', {'ticket_id': 'ticket_1006', 'issue': 'payment_gway_issue'})\n",
    "\n",
    "# Initialize Top-K data structure\n",
    "r.topk().reserve('top_issues', k=3, width=50, depth=7, decay=0.9)\n",
    "\n",
    "# Function to process support tickets and update Top-K issues\n",
    "def process_support_tickets():\n",
    "    stream_entries = r.xrange('support_tickets')\n",
    "    for entry in stream_entries:\n",
    "        issue = entry[1]['issue']\n",
    "        r.topk().add('top_issues', issue)\n",
    "\n",
    "# Process the support tickets\n",
    "process_support_tickets()\n",
    "\n",
    "# Use Top-K to identify the most frequent support issues\n",
    "top_issues = r.topk().list('top_issues')\n",
    "print('Top Customer Support Issues:')\n",
    "for issue in top_issues:\n",
    "    print(issue)\n"
   ]
  },
  {
   "cell_type": "code",
   "execution_count": null,
   "id": "9759af3a-0153-484c-89bd-c3bdf47cbd48",
   "metadata": {},
   "outputs": [],
   "source": []
  }
 ],
 "metadata": {
  "kernelspec": {
   "display_name": "Python 3 (ipykernel)",
   "language": "python",
   "name": "python3"
  },
  "language_info": {
   "codemirror_mode": {
    "name": "ipython",
    "version": 3
   },
   "file_extension": ".py",
   "mimetype": "text/x-python",
   "name": "python",
   "nbconvert_exporter": "python",
   "pygments_lexer": "ipython3",
   "version": "3.13.1"
  }
 },
 "nbformat": 4,
 "nbformat_minor": 5
}
