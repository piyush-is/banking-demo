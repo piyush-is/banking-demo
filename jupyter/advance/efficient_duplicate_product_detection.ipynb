{
 "cells": [
  {
   "cell_type": "code",
   "execution_count": 1,
   "id": "5f3b2d39",
   "metadata": {},
   "outputs": [
    {
     "name": "stdout",
     "output_type": "stream",
     "text": [
      "Connected to Redis\n"
     ]
    },
    {
     "data": {
      "text/plain": [
       "True"
      ]
     },
     "execution_count": 1,
     "metadata": {},
     "output_type": "execute_result"
    }
   ],
   "source": [
    "import redis\n",
    "import json\n",
    "\n",
    "# Define connection variables\n",
    "host = 'localhost'\n",
    "port =  6379\n",
    "password = None #'password'\n",
    "\n",
    "# Connect to Redis\n",
    "r = redis.Redis(host=host, port=port, password=password, decode_responses=True)\n",
    "print('Connected to Redis')\n",
    "\n",
    "r.flushdb()"
   ]
  },
  {
   "cell_type": "markdown",
   "id": "use-case-title",
   "metadata": {},
   "source": [
    "# Efficient Duplicate Product Detection\n",
    "\n",
    "## Description of the use case\n",
    "This use case involves detecting duplicate product listings efficiently. By identifying duplicates, businesses can maintain a clean catalog and improve the user experience.\n",
    "\n",
    "## Redis Data Structures Used\n",
    "- **Bloom Filters**: To efficiently check for the existence of product IDs or attributes and detect duplicates."
   ]
  },
  {
   "cell_type": "code",
   "execution_count": 2,
   "id": "demonstrate-use-case",
   "metadata": {},
   "outputs": [
    {
     "name": "stdout",
     "output_type": "stream",
     "text": [
      "Detected duplicates:\n",
      "{'product_id': 'prod_004', 'name': 'Product 1', 'category': 'home_loan'}\n",
      "{'product_id': 'prod_006', 'name': 'Product 2', 'category': 'personal_loan'}\n",
      "Bloom Filter contains:\n",
      "Product 1:home_loan: 1\n",
      "Product 2:personal_loan: 1\n",
      "Product 3:FD(short duration): 1\n",
      "Product 1:home_loan: 1\n",
      "Product 4:FD(long duration): 1\n",
      "Product 2:personal_loan: 1\n"
     ]
    }
   ],
   "source": [
    "# Mock data for the use case\n",
    "mock_data = [\n",
    "    {'product_id': 'prod_001', 'name': 'Product 1', 'category': 'home_loan'},\n",
    "    {'product_id': 'prod_002', 'name': 'Product 2', 'category': 'personal_loan'},\n",
    "    {'product_id': 'prod_003', 'name': 'Product 3', 'category': 'FD(short duration)'},\n",
    "    {'product_id': 'prod_004', 'name': 'Product 1', 'category': 'home_loan'},  # Duplicate\n",
    "    {'product_id': 'prod_005', 'name': 'Product 4', 'category': 'FD(long duration)'},\n",
    "    {'product_id': 'prod_006', 'name': 'Product 2', 'category': 'personal_loan'}  # Duplicate\n",
    "]\n",
    "\n",
    "# Initialize Bloom Filter\n",
    "bloom_filter_key = 'product_bloom_filter'\n",
    "r.delete(bloom_filter_key)  # Clear existing filter if any\n",
    "\n",
    "# Function to add products to the Bloom Filter\n",
    "def add_to_bloom_filter(product):\n",
    "    product_identifier = f\"{product['name']}:{product['category']}\"\n",
    "    if not r.bf().exists(bloom_filter_key, product_identifier):\n",
    "        r.bf().add(bloom_filter_key, product_identifier)\n",
    "        return False  # Not a duplicate\n",
    "    return True  # Duplicate\n",
    "\n",
    "# Check for duplicates and add products to the Bloom Filter\n",
    "duplicates = []\n",
    "for product in mock_data:\n",
    "    if add_to_bloom_filter(product):\n",
    "        duplicates.append(product)\n",
    "\n",
    "# Print the detected duplicates\n",
    "print('Detected duplicates:')\n",
    "for duplicate in duplicates:\n",
    "    print(duplicate)\n",
    "\n",
    "# Print the Bloom Filter status\n",
    "print('Bloom Filter contains:')\n",
    "for product in mock_data:\n",
    "    product_identifier = f\"{product['name']}:{product['category']}\"\n",
    "    print(f\"{product_identifier}: {r.bf().exists(bloom_filter_key, product_identifier)}\")\n"
   ]
  },
  {
   "cell_type": "code",
   "execution_count": null,
   "id": "3daece1c-08b5-479e-9874-3c7313ddd332",
   "metadata": {},
   "outputs": [],
   "source": []
  }
 ],
 "metadata": {
  "kernelspec": {
   "display_name": "Python 3 (ipykernel)",
   "language": "python",
   "name": "python3"
  },
  "language_info": {
   "codemirror_mode": {
    "name": "ipython",
    "version": 3
   },
   "file_extension": ".py",
   "mimetype": "text/x-python",
   "name": "python",
   "nbconvert_exporter": "python",
   "pygments_lexer": "ipython3",
   "version": "3.13.1"
  }
 },
 "nbformat": 4,
 "nbformat_minor": 5
}
