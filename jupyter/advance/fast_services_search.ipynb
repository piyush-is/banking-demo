{
 "cells": [
  {
   "cell_type": "markdown",
   "metadata": {},
   "source": [
    "# Fast and Efficient Search Capabilities\n",
    "\n",
    "## Description of the use case\n",
    "This use case demonstrates how to provide fast and efficient search capabilities for the available banking services. The aim is to deliver quick and relevant search results to users, enhancing their experience.\n",
    "\n",
    "## Redis Data Structures Used\n",
    "- **Search and Query**: To index and query product data efficiently.\n",
    "- **Hashes**: To store detailed product information."
   ]
  },
  {
   "cell_type": "code",
   "execution_count": 3,
   "metadata": {},
   "outputs": [
    {
     "name": "stdout",
     "output_type": "stream",
     "text": [
      "Connected to Redis\n"
     ]
    },
    {
     "data": {
      "text/plain": [
       "True"
      ]
     },
     "execution_count": 3,
     "metadata": {},
     "output_type": "execute_result"
    }
   ],
   "source": [
    "import redis\n",
    "import json\n",
    "\n",
    "# Define connection variables\n",
    "host = 'localhost'\n",
    "port =  6379\n",
    "password = None #'password'\n",
    "\n",
    "# Connect to Redis\n",
    "r = redis.Redis(host=host, port=port, password=password, decode_responses=True)\n",
    "print('Connected to Redis')\n",
    "\n",
    "r.flushdb()"
   ]
  },
  {
   "cell_type": "code",
   "execution_count": 15,
   "metadata": {},
   "outputs": [
    {
     "data": {
      "text/plain": [
       "'OK'"
      ]
     },
     "execution_count": 15,
     "metadata": {},
     "output_type": "execute_result"
    }
   ],
   "source": [
    "# Drop index\n",
    "r.ft('productIdx').dropindex()"
   ]
  },
  {
   "cell_type": "code",
   "execution_count": 16,
   "metadata": {},
   "outputs": [
    {
     "name": "stdout",
     "output_type": "stream",
     "text": [
      "Search results for query \"loan\":\n",
      "4\n",
      "product:product_8\n",
      "['id', 'product_8', 'name', 'Home Loan', 'category', 'loan']\n",
      "product:product_9\n",
      "['id', 'product_9', 'name', 'Personal Loan', 'category', 'loan']\n",
      "product:product_10\n",
      "['id', 'product_10', 'name', 'Gold Loan', 'category', 'loan']\n",
      "product:product_11\n",
      "['id', 'product_11', 'name', 'OverDraft loan A/c', 'category', 'accounts']\n"
     ]
    }
   ],
   "source": [
    "\n",
    "\n",
    "# Mock data for the use case\n",
    "mock_data = [\n",
    "    {'id': 'product_1', 'name': 'High Yield Savings Account', 'category': 'accounts'},\n",
    "    {'id': 'product_2', 'name': 'Current Account', 'category': 'accounts'},\n",
    "    {'id': 'product_3', 'name': 'Salary Savings Account', 'category': 'accounts'},\n",
    "    {'id': 'product_4', 'name': 'Black Metal Royal Credit Card', 'category': 'cards'},\n",
    "    {'id': 'product_5', 'name': 'Gold Credit Card', 'category': 'card'},\n",
    "    {'id': 'product_6', 'name': 'Silver Credit Card', 'category': 'card'},\n",
    "    {'id': 'product_7', 'name': 'Bronze Credit Card', 'category': 'card'},\n",
    "    {'id': 'product_8', 'name': 'Home Loan', 'category': 'loan'},\n",
    "    {'id': 'product_9', 'name': 'Personal Loan', 'category': 'loan'},\n",
    "    {'id': 'product_10', 'name': 'Gold Loan', 'category': 'loan'},\n",
    "    {'id': 'product_11', 'name': 'OverDraft loan A/c', 'category': 'accounts'}\n",
    "]\n",
    "\n",
    "# Index product data in Redis\n",
    "for product in mock_data:\n",
    "    r.hset(f\"product:{product['id']}\", mapping=product)\n",
    "\n",
    "# Define the search index\n",
    "r.execute_command('FT.CREATE', 'productIdx', 'ON', 'HASH', 'PREFIX', '1', 'product:', 'SCHEMA', 'name', 'TEXT', 'category', 'TEXT')\n",
    "\n",
    "# Function to perform search\n",
    "def search_products(query):\n",
    "    return r.execute_command('FT.SEARCH', 'productIdx', query)\n",
    "\n",
    "# Example search query\n",
    "query = 'loan'\n",
    "search_results = search_products(query)\n",
    "print(f'Search results for query \"{query}\":')\n",
    "for result in search_results:\n",
    "    product_id = result\n",
    "    print(product_id)\n"
   ]
  },
  {
   "cell_type": "markdown",
   "metadata": {},
   "source": [
    "## How do you find products with category loan ?"
   ]
  }
 ],
 "metadata": {
  "kernelspec": {
   "display_name": "Python 3 (ipykernel)",
   "language": "python",
   "name": "python3"
  },
  "language_info": {
   "codemirror_mode": {
    "name": "ipython",
    "version": 3
   },
   "file_extension": ".py",
   "mimetype": "text/x-python",
   "name": "python",
   "nbconvert_exporter": "python",
   "pygments_lexer": "ipython3",
   "version": "3.13.1"
  }
 },
 "nbformat": 4,
 "nbformat_minor": 4
}
