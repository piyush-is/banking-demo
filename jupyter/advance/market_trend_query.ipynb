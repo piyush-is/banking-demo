{
 "cells": [
  {
   "cell_type": "code",
   "execution_count": 2,
   "id": "d0858ac4",
   "metadata": {},
   "outputs": [
    {
     "name": "stdout",
     "output_type": "stream",
     "text": [
      "Connected to Redis\n"
     ]
    },
    {
     "data": {
      "text/plain": [
       "True"
      ]
     },
     "execution_count": 2,
     "metadata": {},
     "output_type": "execute_result"
    }
   ],
   "source": [
    "import redis\n",
    "import json\n",
    "\n",
    "# Define connection variables\n",
    "host = 'localhost'\n",
    "port =  6379\n",
    "password = None #'password'\n",
    "\n",
    "# Connect to Redis\n",
    "r = redis.Redis(host=host, port=port, password=password, decode_responses=True)\n",
    "print('Connected to Redis')\n",
    "\n",
    "r.flushdb()"
   ]
  },
  {
   "cell_type": "markdown",
   "id": "use-case-title",
   "metadata": {},
   "source": [
    "# Market Trend Query\n",
    "\n",
    "## Description of the use case\n",
    "This use case involves analyzing market trends by indexing and querying time-series data and related information. By understanding market trends, financial institutes can make informed decisions and adapt their strategies accordingly.\n",
    "\n",
    "## Redis Data Structures Used\n",
    "- **Redisearch**: To index and query market trend data.\n",
    "- **Hashes**: To store additional information about market metrics.\n"
   ]
  },
  {
   "cell_type": "code",
   "execution_count": 7,
   "id": "demonstrate-use-case",
   "metadata": {},
   "outputs": [
    {
     "name": "stdout",
     "output_type": "stream",
     "text": [
      "Market trends for Personal Loan: [1, 'metric_1001', ['name', 'Metric A', 'category', 'Personal_Loan', 'value', '100', 'timestamp', '1622505600']]\n",
      "Market trends for Saving Instruments: [1, 'metric_1002', ['name', 'Metric B', 'category', 'FDs', 'value', '150', 'timestamp', '1625097600']]\n",
      "Market trends for Market Share: [1, 'metric_1003', ['name', 'Metric C', 'category', 'Home_Loan', 'value', '200', 'timestamp', '1627776000']]\n",
      "Market data for metric_1001: {'name': 'Metric A', 'category': 'Personal_Loan', 'value': '100', 'timestamp': '1622505600'}\n",
      "Market data for metric_1002: {'name': 'Metric B', 'category': 'FDs', 'value': '150', 'timestamp': '1625097600'}\n",
      "Market data for metric_1003: {'name': 'Metric C', 'category': 'Home_Loan', 'value': '200', 'timestamp': '1627776000'}\n"
     ]
    }
   ],
   "source": [
    "r.flushdb()\n",
    "# Mock data for the use case\n",
    "market_data = {\n",
    "    'metric_1001': {'name': 'Metric A', 'category': 'Personal_Loan', 'value': 100, 'timestamp': 1622505600},\n",
    "    'metric_1002': {'name': 'Metric B', 'category': 'FDs', 'value': 150, 'timestamp': 1625097600},\n",
    "    'metric_1003': {'name': 'Metric C', 'category': 'Home_Loan', 'value': 200, 'timestamp': 1627776000},\n",
    "}\n",
    "\n",
    "# Use Redisearch to create an index\n",
    "r.execute_command('FT.CREATE', 'marketIdx', 'ON', 'HASH', 'PREFIX', '1', 'metric_', 'SCHEMA', 'name', 'TEXT', 'category', 'TAG', 'value', 'NUMERIC', 'timestamp', 'NUMERIC')\n",
    "\n",
    "\n",
    "# Use Hashes to store metric information\n",
    "for metric_id, metric_info in market_data.items():\n",
    "    r.hset(metric_id, mapping=metric_info)\n",
    "\n",
    "# Function to query market trends\n",
    "def query_market_trends(category):\n",
    "    query = f\"@category:{{{category}}}\"\n",
    "    return r.execute_command('FT.SEARCH', 'marketIdx', query)\n",
    "\n",
    "# Query and print market trends for 'PL' category\n",
    "pl_trends = query_market_trends('Personal_Loan')\n",
    "print('Market trends for Personal Loan:', pl_trends)\n",
    "\n",
    "# Query and print market trends for 'FDs' category\n",
    "fd_trends = query_market_trends('FDs')\n",
    "print('Market trends for Saving Instruments:', fd_trends)\n",
    "\n",
    "# Query and print market trends for 'Market Share' category\n",
    "hl_trends = query_market_trends('Home_Loan')\n",
    "print('Market trends for Market Share:', hl_trends)\n",
    "\n",
    "# Print the market data for each metric\n",
    "for metric_id in market_data.keys():\n",
    "    metric_info = r.hgetall(metric_id)\n",
    "    print(f'Market data for {metric_id}: {metric_info}')\n"
   ]
  },
  {
   "cell_type": "code",
   "execution_count": null,
   "id": "e9b8c331-3f06-4bf7-b20b-c037e8325eb7",
   "metadata": {},
   "outputs": [],
   "source": []
  },
  {
   "cell_type": "code",
   "execution_count": null,
   "id": "a896260f-1951-463a-b95b-bc734cf96bdb",
   "metadata": {},
   "outputs": [],
   "source": []
  }
 ],
 "metadata": {
  "kernelspec": {
   "display_name": "Python 3 (ipykernel)",
   "language": "python",
   "name": "python3"
  },
  "language_info": {
   "codemirror_mode": {
    "name": "ipython",
    "version": 3
   },
   "file_extension": ".py",
   "mimetype": "text/x-python",
   "name": "python",
   "nbconvert_exporter": "python",
   "pygments_lexer": "ipython3",
   "version": "3.13.1"
  }
 },
 "nbformat": 4,
 "nbformat_minor": 5
}
