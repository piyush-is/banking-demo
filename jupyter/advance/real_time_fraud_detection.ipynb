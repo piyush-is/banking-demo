{
 "cells": [
  {
   "cell_type": "code",
   "execution_count": 1,
   "id": "88ddc42b",
   "metadata": {},
   "outputs": [
    {
     "name": "stdout",
     "output_type": "stream",
     "text": [
      "Connected to Redis\n"
     ]
    },
    {
     "data": {
      "text/plain": [
       "True"
      ]
     },
     "execution_count": 1,
     "metadata": {},
     "output_type": "execute_result"
    }
   ],
   "source": [
    "import redis\n",
    "import json\n",
    "\n",
    "# Define connection variables\n",
    "host = 'localhost'\n",
    "port =  6379\n",
    "password = None #'password'\n",
    "\n",
    "# Connect to Redis\n",
    "r = redis.Redis(host=host, port=port, password=password, decode_responses=True)\n",
    "print('Connected to Redis')\n",
    "\n",
    "r.flushdb()"
   ]
  },
  {
   "cell_type": "markdown",
   "id": "use-case-title",
   "metadata": {},
   "source": [
    "# Real-time Fraud Detection\n",
    "\n",
    "## Description of the use case\n",
    "This use case involves detecting fraudulent transactions in real-time by using Redis Bloom Filters and Streams. By analyzing transaction data, businesses can identify and prevent fraud quickly.\n",
    "\n",
    "## Redis Data Structures Used\n",
    "- **Bloom Filters**: To check for known fraudulent entities.\n",
    "- **Streams**: To capture and process real-time transaction data.\n",
    "- **Hashes**: To store transaction details.\n"
   ]
  },
  {
   "cell_type": "code",
   "execution_count": 5,
   "id": "demonstrate-use-case",
   "metadata": {},
   "outputs": [
    {
     "name": "stdout",
     "output_type": "stream",
     "text": [
      "Transaction tx_1001 is approved.\n",
      "Transaction tx_1002 is marked as fraudulent.\n",
      "Transaction tx_1003 is approved.\n",
      "tx_1001: {'user_id': 'user_1', 'amount': '500', 'status': 'approved'}\n",
      "tx_1002: {'user_id': 'user_2', 'amount': '3000', 'status': 'fraudulent'}\n",
      "tx_1003: {'user_id': 'user_3', 'amount': '700', 'status': 'approved'}\n"
     ]
    }
   ],
   "source": [
    "r.flushdb()\n",
    "# Mock data for the use case\n",
    "transactions = {\n",
    "    'tx_1001': {'user_id': 'user_1', 'amount': 500, 'status': 'pending'},\n",
    "    'tx_1002': {'user_id': 'user_2', 'amount': 3000, 'status': 'pending'},\n",
    "    'tx_1003': {'user_id': 'user_3', 'amount': 700, 'status': 'pending'}\n",
    "}\n",
    "\n",
    "# Use Hashes to store transaction details\n",
    "for tx_id, tx_info in transactions.items():\n",
    "    r.hset(tx_id, mapping=tx_info)\n",
    "\n",
    "# Initialize Bloom Filter for known fraudulent ips\n",
    "r.execute_command('BF.RESERVE', 'fraudulent_ips', 0.01, 1000)\n",
    "fraudulent_ips = ['193.176.23.7','212.18.104.18','213.55.85.202','27.254.235.3','34.66.72.251','45.148.10.240','45.148.10.79',\n",
    "                  '51.254.101.166','59.12.160.91','80.242.208.68','88.214.48.16','88.214.48.17','88.214.48.18','91.205.219.185']\n",
    "for ip in fraudulent_ips:\n",
    "    r.bf().add('fraudulent_ips', ip)\n",
    "\n",
    "# Use Streams to capture real-time transaction data\n",
    "r.xadd('transactions', {'tx_id': 'tx_1001', 'user_id': 'user_1', 'amount': 500, 'ip': '10.2.4.255'})\n",
    "r.xadd('transactions', {'tx_id': 'tx_1002', 'user_id': 'user_2', 'amount': 3000,'ip': '88.214.48.17'})\n",
    "r.xadd('transactions', {'tx_id': 'tx_1003', 'user_id': 'user_3', 'amount': 3000, 'ip': '178.3.27.192'})\n",
    "\n",
    "# Function to process transactions and detect fraud\n",
    "def process_transactions():\n",
    "    stream_entries = r.xrange('transactions')\n",
    "    for entry in stream_entries:\n",
    "        tx_id = entry[1]['tx_id']\n",
    "        user_id = entry[1]['user_id']\n",
    "        amount = int(entry[1]['amount'])\n",
    "        ip = entry[1]['ip']\n",
    "        if not r.bf().exists('fraudulent_ips', ip):\n",
    "            r.hset(tx_id, 'status', 'approved')\n",
    "            print(f\"Transaction {tx_id} is approved.\")\n",
    "        else:\n",
    "            r.hset(tx_id, 'status', 'fraudulent')\n",
    "            print(f\"Transaction {tx_id} is marked as fraudulent.\") \n",
    "\n",
    "# Process the transactions\n",
    "process_transactions()\n",
    "\n",
    "# Print the updated transaction details\n",
    "for tx_id in transactions.keys():\n",
    "    print(f\"{tx_id}: {r.hgetall(tx_id)}\")\n"
   ]
  },
  {
   "cell_type": "code",
   "execution_count": null,
   "id": "5b9099e0-f4fe-4d79-b93a-a17307046ba1",
   "metadata": {},
   "outputs": [],
   "source": []
  }
 ],
 "metadata": {
  "kernelspec": {
   "display_name": "Python 3 (ipykernel)",
   "language": "python",
   "name": "python3"
  },
  "language_info": {
   "codemirror_mode": {
    "name": "ipython",
    "version": 3
   },
   "file_extension": ".py",
   "mimetype": "text/x-python",
   "name": "python",
   "nbconvert_exporter": "python",
   "pygments_lexer": "ipython3",
   "version": "3.13.1"
  }
 },
 "nbformat": 4,
 "nbformat_minor": 5
}
