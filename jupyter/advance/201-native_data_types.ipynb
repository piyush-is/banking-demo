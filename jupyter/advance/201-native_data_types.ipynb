{
 "cells": [
  {
   "cell_type": "code",
   "execution_count": 2,
   "id": "32a61fda-c514-4edd-a898-d6fda7eef762",
   "metadata": {},
   "outputs": [
    {
     "name": "stdout",
     "output_type": "stream",
     "text": [
      "Connected to Redis\n"
     ]
    },
    {
     "data": {
      "text/plain": [
       "True"
      ]
     },
     "execution_count": 2,
     "metadata": {},
     "output_type": "execute_result"
    }
   ],
   "source": [
    "import redis\n",
    "import json\n",
    "\n",
    "# Define connection variables\n",
    "host = 'localhost'\n",
    "port =  6379\n",
    "password = None #'<password>'\n",
    "\n",
    "# Connect to Redis\n",
    "r = redis.Redis(host=host, port=port, password=password, decode_responses=True)\n",
    "print('Connected to Redis')\n",
    "\n",
    "r.flushdb()"
   ]
  },
  {
   "cell_type": "markdown",
   "id": "5a3c22cc-3189-4fbd-b74a-a8c8d28ae720",
   "metadata": {},
   "source": [
    "# Data Types\n",
    "\n",
    "## Description of the use case\n",
    "This notebook introduces Redis data types.\n",
    "\n",
    "## Redis Data Structures Used\n",
    "\n",
    "- **Geospatial**: Geo operations.\n",
    "- **TimeSeries**: Time Series Operations\n",
    "- **HyperLogLog**: HyperLogLog Operations (Probabilitic - Cardinality)\n",
    "- **BloomFilter/CuckooFilter**: BloomFilter/CuckooFilter Operations (Probabilitic - Existence)\n",
    "- **JSON**: The JSON type support\n"
   ]
  },
  {
   "cell_type": "markdown",
   "id": "2706d83b-8aa5-4171-9472-03c3e3fca124",
   "metadata": {},
   "source": [
    "## Geospatial\n",
    "Redis geospatial data-type stores coordinates and search them. In this example we find the nearby vendors (based on current location). This is useful in finding nearby vendors offers for the card or the app customers."
   ]
  },
  {
   "cell_type": "code",
   "execution_count": 12,
   "id": "ff90a40f-1945-4940-970c-b0692351d251",
   "metadata": {
    "scrolled": true
   },
   "outputs": [
    {
     "name": "stdout",
     "output_type": "stream",
     "text": [
      "[['{\"name\":\"Chroma\", \"type\":\"electronics\"}', 1227.3095], ['{\"name\":\"Reliance Mart\", \"type\":\"retail\"}', 761.4476], ['{\"name\":\"Costa Cafe\", \"type\":\"cafe\"}', 178.0393]]\n"
     ]
    }
   ],
   "source": [
    "r.geoadd(\"vendors\", [28.320491, 37.805186, '{\"name\":\"Starbucks\", \"type\":\"cafe\"}'])\n",
    "r.geoadd(\"vendors\", [28.322751,37.485508, '{\"name\":\"Westside\", \"type\":\"clothing\"}'])\n",
    "r.geoadd(\"vendors\", [28.361479,37.48578, '{\"name\":\"Costa Cafe\", \"type\":\"cafe\"}'])\n",
    "r.geoadd(\"vendors\", [28.351032,37.48621, '{\"name\":\"Reliance Mart\", \"type\":\"retail\"}'])\n",
    "r.geoadd(\"vendors\", [28.346185,37.489204, '{\"name\":\"Chroma\", \"type\":\"electronics\"}'])\n",
    "\n",
    "res4 = r.geosearch(\n",
    "    \"vendors\",\n",
    "    longitude=28.359654,\n",
    "    latitude=37.486465,\n",
    "    radius=2000,\n",
    "    unit=\"m\",\n",
    "    withdist=True\n",
    ")\n",
    "print(res4)  # >>> ['station:1', 'station:2', 'station:3']\n",
    "\n"
   ]
  },
  {
   "cell_type": "markdown",
   "id": "34357105-3d62-4c1e-b4be-b5c5ae735bb5",
   "metadata": {},
   "source": [
    "## Time Series\n",
    "The Redis time series structure stores and allow query on timestamped data points."
   ]
  },
  {
   "cell_type": "code",
   "execution_count": 14,
   "id": "36765989-bfab-4c32-894d-75ea0b7f8506",
   "metadata": {},
   "outputs": [
    {
     "name": "stdout",
     "output_type": "stream",
     "text": [
      "(1749563519668, 100.0)\n",
      "(1749563519669, 101.0)\n",
      "(1749563519670, 105.0)\n",
      "Range Data: [(1749563403890, 100.0), (1749563403893, 105.0), (1749563437875, 100.0), (1749563437877, 101.0), (1749563437878, 105.0), (1749563454420, 100.0), (1749563454422, 101.0), (1749563454423, 105.0), (1749563475155, 100.0), (1749563475157, 101.0), (1749563475158, 105.0), (1749563479151, 100.0), (1749563479154, 101.0), (1749563479155, 105.0), (1749563485496, 100.0), (1749563485498, 101.0), (1749563485499, 105.0), (1749563507341, 100.0), (1749563507343, 101.0), (1749563507344, 105.0), (1749563519668, 100.0), (1749563519669, 101.0), (1749563519670, 105.0)]\n",
      "Aggregated Data: [(1749563400000, 102.125), (1749563460000, 102.0)]\n"
     ]
    }
   ],
   "source": [
    "# Use TimeSeries to store historical sales data\n",
    "r.ts().add('sales:newaccounts', '*', 100) # add with current timestamp\n",
    "last_sale = r.ts().get('sales:newaccounts')\n",
    "print(last_sale)\n",
    "r.ts().incrby('sales:newaccounts', 1, timestamp='*')\n",
    "last_sale = r.ts().get('sales:newaccounts')\n",
    "print(last_sale)\n",
    "r.ts().incrby('sales:newaccounts', 4, timestamp='*')\n",
    "\n",
    "last_sale = r.ts().get('sales:newaccounts')\n",
    "print(last_sale)\n",
    "# Get a range of data points\n",
    "range_data = r.ts().range('sales:newaccounts', '0', '+')\n",
    "print(f\"Range Data: {range_data}\")\n",
    "aggregated_data = r.ts().range('sales:newaccounts', '-', '+', aggregation_type='avg', bucket_size_msec=60000)\n",
    "print(f\"Aggregated Data: {aggregated_data}\")"
   ]
  },
  {
   "cell_type": "markdown",
   "id": "11eaf62a-38fb-467c-a0d2-112127fdbcef",
   "metadata": {},
   "source": [
    "## HyperLogLog\n",
    "Redis HyperLogLog provides an efficient way to estimate the cardinality (number of unique elements) of a large set without storing the entire set."
   ]
  },
  {
   "cell_type": "code",
   "execution_count": 17,
   "id": "ef123a61-69b6-4b7d-b689-6dc0c2de34c9",
   "metadata": {},
   "outputs": [
    {
     "data": {
      "text/plain": [
       "5"
      ]
     },
     "execution_count": 17,
     "metadata": {},
     "output_type": "execute_result"
    }
   ],
   "source": [
    "# add items to a hyper log\n",
    "r.pfadd(\"feature:newUI\", \"user:1\")\n",
    "r.pfadd(\"feature:newUI\", \"user:5\")\n",
    "r.pfadd(\"feature:newUI\", \"user:13\")\n",
    "r.pfadd(\"feature:newUI\", \"user:52\")\n",
    "r.pfadd(\"feature:newUI\", \"user:31\")\n",
    "r.pfadd(\"feature:newUI\", \"user:5\")\n",
    "r.pfadd(\"feature:newUI\", \"user:5\")\n",
    "r.pfadd(\"feature:newUI\", \"user:52\")\n",
    "r.pfcount(\"feature:newUI\")\n"
   ]
  },
  {
   "cell_type": "markdown",
   "id": "0b588083-089d-43a9-9d04-c58f5e0fbbf6",
   "metadata": {},
   "source": [
    "## BloomFilter\n",
    "A Bloom filter is a probabilistic data structure in Redis that enables to check if an element is present in a set using a very small memory space of a fixed size. \n"
   ]
  },
  {
   "cell_type": "code",
   "execution_count": 9,
   "id": "be82e489-0597-4403-a7a8-b54a0c96f9be",
   "metadata": {},
   "outputs": [
    {
     "name": "stdout",
     "output_type": "stream",
     "text": [
      "1\n",
      "0\n"
     ]
    }
   ],
   "source": [
    "r.flushdb()\n",
    "r.bf().reserve(\"blacklist_ips\", 0.01, 1000)\n",
    "r.bf().madd(\"blacklist_ips\",'193.176.23.7','212.18.104.18','213.55.85.202','27.254.235.3','34.66.72.251','45.148.10.240','45.148.10.79',\n",
    "                  '51.254.101.166','59.12.160.91','80.242.208.68','88.214.48.16','88.214.48.17','88.214.48.18','91.205.219.185')\n",
    "is_blacklisted = r.bf().exists(\"blacklist_ips\",\"59.12.160.91\")\n",
    "print(is_blacklisted)\n",
    "is_blacklisted = r.bf().exists(\"blacklist_ips\",\"127.0.0.1\")\n",
    "print(is_blacklisted)\n"
   ]
  },
  {
   "cell_type": "markdown",
   "id": "c77822ba-d7a6-4b4e-abbe-7b2365d3298e",
   "metadata": {},
   "source": [
    "## CuckooFilter\n",
    "A Cuckoo filter, just like a Bloom filter, is a probabilistic data structure in Redis that checks if an element is present in a set in a very fast and space efficient way, while also allowing for deletions"
   ]
  },
  {
   "cell_type": "code",
   "execution_count": 13,
   "id": "87cc0ba5-d816-4594-99b7-b3bf826c9e2d",
   "metadata": {},
   "outputs": [
    {
     "name": "stdout",
     "output_type": "stream",
     "text": [
      "1\n",
      "0\n",
      "0\n"
     ]
    }
   ],
   "source": [
    "r.flushdb()\n",
    "# try ip filtering with cuckoo filter\n",
    "r.cf().insert(\"blacklist_ips_cf\", items=['193.176.23.7','212.18.104.18','213.55.85.202','27.254.235.3','34.66.72.251','45.148.10.240','45.148.10.79',\n",
    "                  '51.254.101.166','59.12.160.91','80.242.208.68','88.214.48.16','88.214.48.17','88.214.48.18','91.205.219.185'])\n",
    "is_blacklisted = r.cf().exists(\"blacklist_ips_cf\",\"59.12.160.91\")\n",
    "print(is_blacklisted)\n",
    "is_blacklisted = r.cf().exists(\"blacklist_ips_cf\",\"127.0.0.1\")\n",
    "print(is_blacklisted)\n",
    "r.cf().delete(\"blacklist_ips_cf\",\"59.12.160.91\");\n",
    "is_blacklisted = r.cf().exists(\"blacklist_ips_cf\",\"59.12.160.91\")\n",
    "print(is_blacklisted)\n"
   ]
  },
  {
   "cell_type": "markdown",
   "id": "2cf1f73c-3826-4a24-9d3f-c954864efe42",
   "metadata": {},
   "source": [
    "## JSON\n",
    "The JSON capability of Redis Open Source provides JavaScript Object Notation (JSON) support for Redis. It lets you store, update, and retrieve JSON values in a Redis database,"
   ]
  },
  {
   "cell_type": "code",
   "execution_count": 45,
   "id": "b326db26-eaa9-4e22-a45a-90a406cc67ac",
   "metadata": {},
   "outputs": [
    {
     "name": "stdout",
     "output_type": "stream",
     "text": [
      "[{'user_id': 'u00001', 'roles': ['auth-user', 'sa-user', 'fd-user'], 'recent_views': ['product:2001', 'product:2002']}]\n",
      "[{'user_id': 'u00001', 'roles': ['auth-user', 'sa-user', 'fd-user'], 'recent_views': ['product:2001', 'product:2002'], 'jwt': 'eyckskjdjkdvkr7bfb35nb3bnhrg34jh43'}]\n",
      "[{'user_id': 'u00001', 'roles': ['auth-user', 'sa-user', 'fd-user'], 'recent_views': ['product:2001', 'product:2002', 'product:9999'], 'jwt': 'eyckskjdjkdvkr7bfb35nb3bnhrg34jh43'}]\n",
      "[{'user_id': 'u00001', 'roles': ['auth-user', 'sa-user', 'fd-user'], 'jwt': 'eyckskjdjkdvkr7bfb35nb3bnhrg34jh43'}]\n"
     ]
    }
   ],
   "source": [
    "r.json().set(\"session:u00001\", \"$\", {\"user_id\": \"u00001\", \"roles\": [\"auth-user\", \"sa-user\", \"fd-user\"], \"recent_views\": [\"product:2001\", \"product:2002\"]})\n",
    "print(r.json().get(\"session:u00001\", \"$\"))\n",
    "r.json().merge(\"session:u00001\", \"$\", {\"jwt\":\"eyckskjdjkdvkr7bfb35nb3bnhrg34jh43\"}) # the new attribute jwt\n",
    "print(r.json().get(\"session:u00001\", \"$\"))\n",
    "\n",
    "r.json().arrappend(\"session:u00001\", \"$.recent_views\", \"product:9999\") # the existing array appened.\n",
    "print(r.json().get(\"session:u00001\", \"$\"))\n",
    "\n",
    "r.json().merge(\"session:u00001\", \"$\", {\"recent_views\":None}) # remove existing attribute\n",
    "print(r.json().get(\"session:u00001\", \"$\"))"
   ]
  },
  {
   "cell_type": "code",
   "execution_count": null,
   "id": "70950760-2f9d-4fb8-bd32-f1c417cbe92b",
   "metadata": {},
   "outputs": [],
   "source": []
  }
 ],
 "metadata": {
  "kernelspec": {
   "display_name": "Python 3 (ipykernel)",
   "language": "python",
   "name": "python3"
  },
  "language_info": {
   "codemirror_mode": {
    "name": "ipython",
    "version": 3
   },
   "file_extension": ".py",
   "mimetype": "text/x-python",
   "name": "python",
   "nbconvert_exporter": "python",
   "pygments_lexer": "ipython3",
   "version": "3.13.1"
  }
 },
 "nbformat": 4,
 "nbformat_minor": 5
}
