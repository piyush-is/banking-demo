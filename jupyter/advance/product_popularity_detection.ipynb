{
 "cells": [
  {
   "cell_type": "code",
   "execution_count": 10,
   "id": "81f8c623",
   "metadata": {},
   "outputs": [
    {
     "name": "stdout",
     "output_type": "stream",
     "text": [
      "Connected to Redis\n"
     ]
    },
    {
     "data": {
      "text/plain": [
       "True"
      ]
     },
     "execution_count": 10,
     "metadata": {},
     "output_type": "execute_result"
    }
   ],
   "source": [
    "import redis\n",
    "import json\n",
    "\n",
    "# Define connection variables\n",
    "host = 'localhost'\n",
    "port =  6379\n",
    "password =  None #'mypassword'\n",
    "\n",
    "# Connect to Redis\n",
    "r = redis.Redis(host=host, port=port, password=password, decode_responses=True)\n",
    "print('Connected to Redis')\n",
    "\n",
    "r.flushdb()"
   ]
  },
  {
   "cell_type": "markdown",
   "id": "use-case-title",
   "metadata": {},
   "source": [
    "# Product Sales by popularity\n",
    "\n",
    "## Description of the use case\n",
    "This use case involves detecting trends in product sales data using Redis T-Digest. By analyzing the distribution of sales data, businesses can identify patterns and make data-driven decisions.\n",
    "\n",
    "## Redis Data Structures Used\n",
    "- **T-Digest**: To detect trends in sales data.\n",
    "- **Hashes**: To store sales data for each product.\n"
   ]
  },
  {
   "cell_type": "code",
   "execution_count": 27,
   "id": "demonstrate-use-case",
   "metadata": {},
   "outputs": [
    {
     "name": "stdout",
     "output_type": "stream",
     "text": [
      "[5600]\n",
      "5288.888888888889\n",
      "30_days_fd: 5000,5200,5300,5400,5600,5600,5600,5200,2000,5200,5200,5200,10000,5300,5200\n"
     ]
    }
   ],
   "source": [
    "# Mock data for the use case\n",
    "r.flushdb()\n",
    "sales_data = {\n",
    "    '30_days_fd': [5000, 5200, 5300, 5400, 5600,5600,5600,5200,2000,5200,5200,5200,10000, 5300,5200]\n",
    " }\n",
    "   #'1_year_fd': [7700, 7500, 7600, 7800, 7900, 6500, 7000, 7800, 7500,7000,7000],\n",
    "\n",
    "\n",
    "# Use Hashes to store sales data for each product\n",
    "for product_id, data in sales_data.items():\n",
    "    r.hset(product_id, mapping={'sales_data': ','.join(map(str, data))})\n",
    "\n",
    "# Use T-Digest to detect trends in sales data\n",
    "for product_id, data in sales_data.items():\n",
    "    r.tdigest().create(key=f'tdigest:{product_id}')\n",
    "    for value in data:\n",
    "        r.execute_command('TDIGEST.ADD', f'tdigest:{product_id}', value)\n",
    "\n",
    "# Function to get percentiles from T-Digest\n",
    "def get_percentiles(product_id, percentiles):\n",
    "    return r.execute_command('TDIGEST.QUANTILE', f'tdigest:{product_id}', *percentiles)\n",
    "\n",
    "# Detect trends in sales data for each product\n",
    "# find % of 30_days_fd whose value is above certain threshold \n",
    "val = r.tdigest().quantile(\"tdigest:30_days_fd\", 0.75)\n",
    "print(val)\n",
    "tmean = r.tdigest().trimmed_mean(\"tdigest:30_days_fd\", 0.2,0.8)\n",
    "print(tmean)\n",
    "# Print the sales data for each product\n",
    "for product_id in sales_data.keys():\n",
    "    print(f\"{product_id}: {r.hget(product_id, 'sales_data')}\")\n"
   ]
  },
  {
   "cell_type": "code",
   "execution_count": null,
   "id": "92417119-75d0-47e8-a33c-b7a377f36b92",
   "metadata": {},
   "outputs": [],
   "source": []
  }
 ],
 "metadata": {
  "kernelspec": {
   "display_name": "Python 3 (ipykernel)",
   "language": "python",
   "name": "python3"
  },
  "language_info": {
   "codemirror_mode": {
    "name": "ipython",
    "version": 3
   },
   "file_extension": ".py",
   "mimetype": "text/x-python",
   "name": "python",
   "nbconvert_exporter": "python",
   "pygments_lexer": "ipython3",
   "version": "3.13.1"
  }
 },
 "nbformat": 4,
 "nbformat_minor": 5
}
