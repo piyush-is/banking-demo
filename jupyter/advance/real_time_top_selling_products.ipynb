{
 "cells": [
  {
   "cell_type": "code",
   "execution_count": 4,
   "id": "a307ed81",
   "metadata": {},
   "outputs": [
    {
     "name": "stdout",
     "output_type": "stream",
     "text": [
      "Connected to Redis\n"
     ]
    },
    {
     "data": {
      "text/plain": [
       "True"
      ]
     },
     "execution_count": 4,
     "metadata": {},
     "output_type": "execute_result"
    }
   ],
   "source": [
    "import redis\n",
    "import json\n",
    "\n",
    "# Define connection variables\n",
    "host = 'localhost'\n",
    "port =  6379\n",
    "password = None #'password'\n",
    "\n",
    "# Connect to Redis\n",
    "r = redis.Redis(host=host, port=port, password=password, decode_responses=True)\n",
    "print('Connected to Redis')\n",
    "\n",
    "r.flushdb()"
   ]
  },
  {
   "cell_type": "markdown",
   "id": "use-case-title",
   "metadata": {},
   "source": [
    "# Real-time Top Selling Products\n",
    "\n",
    "## Description of the use case\n",
    "This use case involves keeping an updated list of top-selling products/services in real-time. By tracking sales data, banks can identify and promote their best-selling products.\n",
    "\n",
    "## Redis Data Structures Used\n",
    "- **Top-K**: To maintain a list of top-selling products.\n",
    "- **Hashes**: To store sales data for each product.\n"
   ]
  },
  {
   "cell_type": "code",
   "execution_count": 5,
   "id": "demonstrate-use-case",
   "metadata": {},
   "outputs": [
    {
     "name": "stdout",
     "output_type": "stream",
     "text": [
      "order_1001: {'name': 'Savings Account', 'sales': '100'}\n",
      "order_1002: {'name': 'Overdraft Account', 'sales': '150'}\n",
      "order_1003: {'name': 'Fixed Deposit (Short)', 'sales': '200'}\n",
      "order_1004: {'name': 'Fixed Deposit (Long)', 'sales': '50'}\n",
      "order_1005: {'name': 'Home Loan', 'sales': '300'}\n",
      "order_1006: {'name': 'Savings Account', 'sales': '70'}\n",
      "order_1007: {'name': 'Savings Account', 'sales': '55'}\n",
      "order_1008: {'name': 'Fixed Deposit (Short)', 'sales': '500'}\n",
      "order_1009: {'name': 'Overdraft Account', 'sales': '6'}\n",
      "order_1010: {'name': 'Home Loan', 'sales': '200'}\n",
      "Top Selling Products:\n",
      "Product (Fixed Deposit (Short)) : 700\n",
      "Product (Home Loan) : 500\n",
      "Product (Savings Account) : 225\n"
     ]
    }
   ],
   "source": [
    "r.flushdb()\n",
    "# Mock data for the use case\n",
    "sales_data = {\n",
    "    'order_1001': {'name': 'Savings Account', 'sales': 100},\n",
    "    'order_1002': {'name': 'Overdraft Account', 'sales': 150},\n",
    "    'order_1003': {'name': 'Fixed Deposit (Short)', 'sales': 200},\n",
    "    'order_1004': {'name': 'Fixed Deposit (Long)', 'sales': 50},\n",
    "    'order_1005': {'name': 'Home Loan', 'sales': 300},\n",
    "    'order_1006': {'name': 'Savings Account', 'sales': 70},\n",
    "    'order_1007': {'name': 'Savings Account', 'sales': 55},\n",
    "    'order_1008': {'name': 'Fixed Deposit (Short)', 'sales': 500},\n",
    "    'order_1009': {'name': 'Overdraft Account', 'sales': 6},\n",
    "    'order_1010': {'name': 'Home Loan', 'sales': 200}\n",
    "}\n",
    "\n",
    "# Use Hashes to store sales data for each product\n",
    "for product_id, data in sales_data.items():\n",
    "    r.hset(product_id, mapping=data)\n",
    "\n",
    "# Initialize Top-K data structure\n",
    "r.topk().reserve('top_selling_products', k=3, width=50, depth=7,decay=0.9)\n",
    "\n",
    "# Function to update Top-K with sales data\n",
    "def update_top_selling_products():\n",
    "    for product_id, data in sales_data.items():\n",
    "        r.topk().incrby('top_selling_products',[data['name']],[data['sales']])\n",
    "\n",
    "# Update Top-K with the sales data\n",
    "update_top_selling_products()\n",
    "\n",
    "# Print the sales data for each product\n",
    "for product_id in sales_data.keys():\n",
    "    print(f\"{product_id}: {r.hgetall(product_id)}\")\n",
    "\n",
    "# Get the list of top-selling products\n",
    "top_selling_products = r.topk().list('top_selling_products', withcount=True)\n",
    "\n",
    "\n",
    "print('Top Selling Products:')\n",
    "for i in range(0,len(top_selling_products),2):\n",
    "    print(f\"Product ({top_selling_products[i]}) : {top_selling_products[i+1]}\")"
   ]
  },
  {
   "cell_type": "code",
   "execution_count": null,
   "id": "40080262-88e6-4385-9943-80fcef7ede9d",
   "metadata": {},
   "outputs": [],
   "source": []
  }
 ],
 "metadata": {
  "kernelspec": {
   "display_name": "Python 3 (ipykernel)",
   "language": "python",
   "name": "python3"
  },
  "language_info": {
   "codemirror_mode": {
    "name": "ipython",
    "version": 3
   },
   "file_extension": ".py",
   "mimetype": "text/x-python",
   "name": "python",
   "nbconvert_exporter": "python",
   "pygments_lexer": "ipython3",
   "version": "3.13.1"
  }
 },
 "nbformat": 4,
 "nbformat_minor": 5
}
