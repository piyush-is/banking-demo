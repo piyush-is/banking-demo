{
 "cells": [
  {
   "cell_type": "code",
   "execution_count": 2,
   "id": "5755edc5",
   "metadata": {},
   "outputs": [
    {
     "name": "stdout",
     "output_type": "stream",
     "text": [
      "Connected to Redis\n"
     ]
    },
    {
     "data": {
      "text/plain": [
       "True"
      ]
     },
     "execution_count": 2,
     "metadata": {},
     "output_type": "execute_result"
    }
   ],
   "source": [
    "import redis\n",
    "import json\n",
    "\n",
    "# Define connection variables\n",
    "host = 'localhost'\n",
    "port =  6379\n",
    "password = None #'password'\n",
    "\n",
    "# Connect to Redis\n",
    "r = redis.Redis(host=host, port=port, password=password, decode_responses=True)\n",
    "print('Connected to Redis')\n",
    "\n",
    "r.flushdb()"
   ]
  },
  {
   "cell_type": "markdown",
   "id": "use-case-title",
   "metadata": {},
   "source": [
    "# Predictive Analytics for New Product Lines\n",
    "\n",
    "## Description of the use case\n",
    "This use case involves using predictive analytics to forecast demand for new product lines. By analyzing historical sales data, businesses can make data-driven decisions about which products to launch and in what quantities.\n",
    "\n",
    "## Redis Data Structures Used\n",
    "- **TimeSeries**: To store and analyze time-series data of product sales.\n",
    "- **Hashes**: To store product information.\n"
   ]
  },
  {
   "cell_type": "code",
   "execution_count": 3,
   "id": "demonstrate-use-case",
   "metadata": {},
   "outputs": [
    {
     "name": "stdout",
     "output_type": "stream",
     "text": [
      "Forecasted sales for product_1001: 175.0 [Moving average of last 2 data points]\n",
      "Forecasted sales for product_1002: 140.0 [Moving average of last 2 data points]\n",
      "Forecasted sales for product_1003: 110.0 [Moving average of last 2 data points]\n",
      "Sales data for product_1001: [(1622505600000, 100.0), (1625097600000, 150.0), (1627776000000, 200.0)]\n",
      "Sales data for product_1002: [(1622505600000, 80.0), (1625097600000, 120.0), (1627776000000, 160.0)]\n",
      "Sales data for product_1003: [(1622505600000, 60.0), (1625097600000, 90.0), (1627776000000, 130.0)]\n"
     ]
    }
   ],
   "source": [
    "r.flushdb()\n",
    "# Mock data for the use case\n",
    "mock_data = {\n",
    "    'product_1001': {'name': 'Short Term FDs', 'category': 'savings'},\n",
    "    'product_1002': {'name': 'Home Loan', 'category': 'loan'},\n",
    "    'product_1003': {'name': 'Personal Loan', 'category': 'loan'},\n",
    "}\n",
    "\n",
    "# Use Hashes to store product information\n",
    "for product_id, product_info in mock_data.items():\n",
    "    r.hset(product_id, mapping=product_info)\n",
    "\n",
    "# Use TimeSeries to store historical sales data\n",
    "sales_data = {\n",
    "    'product_1001': [(1622505600000, 100), (1625097600000, 150), (1627776000000, 200)],\n",
    "    'product_1002': [(1622505600000, 80), (1625097600000, 120), (1627776000000, 160)],\n",
    "    'product_1003': [(1622505600000, 60), (1625097600000, 90), (1627776000000, 130)],\n",
    "}\n",
    "\n",
    "for product_id, data_points in sales_data.items():\n",
    "    for timestamp, value in data_points:\n",
    "        r.ts().add(f'sales:{product_id}', timestamp, value)\n",
    "\n",
    "# Function to forecast sales for the next period (example using simple moving average)\n",
    "def forecast_sales(product_id, window=2):\n",
    "    sales = r.ts().range(f'sales:{product_id}', from_time='-', to_time='+')\n",
    "    if len(sales) < window:\n",
    "        return None\n",
    "    total = sum(value for timestamp, value in sales[-window:])\n",
    "    return total // window\n",
    "\n",
    "# Forecast sales for each product\n",
    "for product_id in mock_data.keys():\n",
    "    forecast = forecast_sales(product_id)\n",
    "    print(f'Forecasted sales for {product_id}: {forecast} [Moving average of last 2 data points]')\n",
    "\n",
    "# Print the sales data for each product\n",
    "for product_id in mock_data.keys():\n",
    "    sales = r.ts().range(f'sales:{product_id}', from_time='-', to_time='+')\n",
    "    print(f'Sales data for {product_id}: {sales}')\n"
   ]
  },
  {
   "cell_type": "code",
   "execution_count": null,
   "id": "744e206e-e319-4071-8387-93e088694d1a",
   "metadata": {},
   "outputs": [],
   "source": []
  }
 ],
 "metadata": {
  "kernelspec": {
   "display_name": "Python 3 (ipykernel)",
   "language": "python",
   "name": "python3"
  },
  "language_info": {
   "codemirror_mode": {
    "name": "ipython",
    "version": 3
   },
   "file_extension": ".py",
   "mimetype": "text/x-python",
   "name": "python",
   "nbconvert_exporter": "python",
   "pygments_lexer": "ipython3",
   "version": "3.13.1"
  }
 },
 "nbformat": 4,
 "nbformat_minor": 5
}
