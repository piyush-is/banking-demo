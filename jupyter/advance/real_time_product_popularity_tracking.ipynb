{
 "cells": [
  {
   "cell_type": "code",
   "execution_count": 1,
   "id": "657f7637",
   "metadata": {},
   "outputs": [
    {
     "name": "stdout",
     "output_type": "stream",
     "text": [
      "Connected to Redis\n"
     ]
    },
    {
     "data": {
      "text/plain": [
       "True"
      ]
     },
     "execution_count": 1,
     "metadata": {},
     "output_type": "execute_result"
    }
   ],
   "source": [
    "import redis\n",
    "import json\n",
    "\n",
    "# Define connection variables\n",
    "host = 'localhost'\n",
    "port =  6379\n",
    "password = None #'password'\n",
    "\n",
    "# Connect to Redis\n",
    "r = redis.Redis(host=host, port=port, password=password, decode_responses=True)\n",
    "print('Connected to Redis')\n",
    "\n",
    "r.flushdb()"
   ]
  },
  {
   "cell_type": "markdown",
   "id": "use-case-title",
   "metadata": {},
   "source": [
    "# Real-time Product Popularity Tracking\n",
    "\n",
    "## Description of the use case\n",
    "This use case involves tracking the popularity of products in real-time based on user interactions such as views, likes, and purchases. By monitoring these metrics, businesses can identify trending products and adjust their strategies accordingly.\n",
    "\n",
    "## Redis Data Structures Used\n",
    "- **HyperLogLog**: To estimate the unique count of interactions.\n",
    "- **Hashes**: To store detailed interaction data for each product.\n",
    "- **Sorted Sets**: To rank products based on their popularity scores."
   ]
  },
  {
   "cell_type": "code",
   "execution_count": 2,
   "id": "demonstrate-use-case",
   "metadata": {},
   "outputs": [
    {
     "name": "stdout",
     "output_type": "stream",
     "text": [
      "2 number of products are selected\n",
      "Product ID : product_826d2b35-ce08-48e0-81e5-de3a0dffcf00\n",
      "Product ID : product_efce608a-92cd-4fd7-9a20-068dacf3c2eb\n",
      "Generating Random number of views, likes and purchases for products\n",
      "Expected Score for product_826d2b35-ce08-48e0-81e5-de3a0dffcf00 --> 9716\n",
      "Expected Score for product_efce608a-92cd-4fd7-9a20-068dacf3c2eb --> 8690\n",
      "Ranked Products by Popularity:\n",
      "Actual Score for product_826d2b35-ce08-48e0-81e5-de3a0dffcf00 --> 9763.0\n",
      "Actual Score for product_efce608a-92cd-4fd7-9a20-068dacf3c2eb --> 8720.0\n"
     ]
    }
   ],
   "source": [
    "r.flushdb()\n",
    "\n",
    "import random\n",
    "import uuid\n",
    "mock_data = [f\"product_{uuid.uuid4()}\" for x in range(0, random.randint(0,10))]\n",
    "print(f\"{len(mock_data)} number of products are selected\")\n",
    "for x in mock_data:\n",
    "    print(f\"Product ID : {x}\")\n",
    "\n",
    "\n",
    "# Use HyperLogLog to estimate the unique count of interactions\n",
    "print(f\"Generating Random number of views, likes and purchases for products\")\n",
    "for product_id in mock_data:\n",
    "    views = random.randint(0,10000)\n",
    "    likes = random.randint(0,200)\n",
    "    purchases = random.randint(0,20)\n",
    "    expected_score = views + (likes * 2) + (purchases * 5)\n",
    "    print(f\"Expected Score for {product_id} --> {expected_score}\")\n",
    "    \n",
    "    p = r.pipeline()\n",
    "    for _ in range(views):\n",
    "        p.pfadd(f\"{product_id}:views\", f\"user{_}\") \n",
    "    p.execute()\n",
    "    for _ in range(likes):\n",
    "        p.pfadd(f\"{product_id}:likes\", f\"user{_}\")\n",
    "    p.execute() \n",
    "    for _ in range(purchases):\n",
    "        p.pfadd(f\"{product_id}:purchases\", f\"user{_}\")\n",
    "    p.execute()\n",
    "\n",
    "# Calculate popularity score and use Sorted Sets to rank products\n",
    "for product_id in mock_data:\n",
    "    views = r.pfcount(f\"{product_id}:views\")\n",
    "    likes = r.pfcount(f\"{product_id}:likes\")\n",
    "    purchases = r.pfcount(f\"{product_id}:purchases\")\n",
    "    popularity_score = views + (likes * 2) + (purchases * 5)  # Example scoring algorithm\n",
    "    r.zadd('product_popularity', {product_id: popularity_score})\n",
    "\n",
    "\n",
    "# Print the ranked products by popularity\n",
    "ranked_products = r.zrange('product_popularity', 0, -1, withscores=True, desc=True)\n",
    "print('Ranked Products by Popularity:')\n",
    "for product, score in ranked_products:\n",
    "    print(f\"Actual Score for {product} --> {score}\")"
   ]
  },
  {
   "cell_type": "code",
   "execution_count": null,
   "id": "3ef9ac7e-a3de-4da8-bf5e-ed2c9ddedefe",
   "metadata": {},
   "outputs": [],
   "source": []
  },
  {
   "cell_type": "code",
   "execution_count": null,
   "id": "6bffedc5-0375-4a2d-a901-5230134d381b",
   "metadata": {},
   "outputs": [],
   "source": []
  }
 ],
 "metadata": {
  "kernelspec": {
   "display_name": "Python 3 (ipykernel)",
   "language": "python",
   "name": "python3"
  },
  "language_info": {
   "codemirror_mode": {
    "name": "ipython",
    "version": 3
   },
   "file_extension": ".py",
   "mimetype": "text/x-python",
   "name": "python",
   "nbconvert_exporter": "python",
   "pygments_lexer": "ipython3",
   "version": "3.13.1"
  }
 },
 "nbformat": 4,
 "nbformat_minor": 5
}
