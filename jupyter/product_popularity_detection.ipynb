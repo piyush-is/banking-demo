{
 "cells": [
  {
   "cell_type": "code",
   "execution_count": 1,
   "id": "81f8c623",
   "metadata": {},
   "outputs": [
    {
     "name": "stdout",
     "output_type": "stream",
     "text": [
      "Connected to Redis\n"
     ]
    },
    {
     "data": {
      "text/plain": [
       "True"
      ]
     },
     "execution_count": 1,
     "metadata": {},
     "output_type": "execute_result"
    }
   ],
   "source": [
    "import redis\n",
    "import json\n",
    "\n",
    "# Define connection variables\n",
    "host = 'localhost'\n",
    "port =  6379\n",
    "password =  None #'mypassword'\n",
    "\n",
    "# Connect to Redis\n",
    "r = redis.Redis(host=host, port=port, password=password, decode_responses=True)\n",
    "print('Connected to Redis')\n",
    "\n",
    "r.flushdb()"
   ]
  },
  {
   "cell_type": "markdown",
   "id": "use-case-title",
   "metadata": {},
   "source": [
    "# Product Sales by popularity\n",
    "\n",
    "## Description of the use case\n",
    "This use case involves detecting trends in product sales data using Redis T-Digest. By analyzing the distribution of sales data, businesses can identify patterns and make data-driven decisions.\n",
    "\n",
    "## Redis Data Structures Used\n",
    "- **T-Digest**: To detect trends in sales data.\n",
    "- **Hashes**: To store sales data for each product.\n"
   ]
  },
  {
   "cell_type": "code",
   "execution_count": 2,
   "id": "demonstrate-use-case",
   "metadata": {},
   "outputs": [
    {
     "name": "stdout",
     "output_type": "stream",
     "text": [
      "Trend for 30_days_fd:\n",
      " > 25th percentile: 5200\n",
      " > 50th percentile: 5300\n",
      " > 75th percentile: 5400\n",
      " > 99th percentile: 5600\n",
      "Trend for 1_year_fd:\n",
      " > 25th percentile: 7600\n",
      " > 50th percentile: 7700\n",
      " > 75th percentile: 7800\n",
      " > 99th percentile: 7900\n",
      "Trend for personal_loan:\n",
      " > 25th percentile: 3200\n",
      " > 50th percentile: 3400\n",
      " > 75th percentile: 3600\n",
      " > 99th percentile: 3800\n",
      "Trend for home_loans:\n",
      " > 25th percentile: 2200\n",
      " > 50th percentile: 2400\n",
      " > 75th percentile: 2600\n",
      " > 99th percentile: 2800\n",
      "30_days_fd: 5000,5200,5300,5400,5600\n",
      "1_year_fd: 7500,7600,7700,7800,7900\n",
      "personal_loan: 3000,3200,3400,3600,3800\n",
      "home_loans: 2000,2200,2400,2600,2800\n"
     ]
    }
   ],
   "source": [
    "# Mock data for the use case\n",
    "sales_data = {\n",
    "    '30_days_fd': [5000, 5200, 5300, 5400, 5600],\n",
    "    '1_year_fd': [7700, 7500, 7600, 7800, 7900],\n",
    "    'personal_loan': [3200, 2800, 3000, 3400, 3600, 3800],\n",
    "    'home_loan': [2000, 2200, 2400, 2600, 2800]\n",
    "}\n",
    "\n",
    "\n",
    "\n",
    "# Use Hashes to store sales data for each product\n",
    "for product_id, data in sales_data.items():\n",
    "    r.hset(product_id, mapping={'sales_data': ','.join(map(str, data))})\n",
    "\n",
    "# Use T-Digest to detect trends in sales data\n",
    "for product_id, data in sales_data.items():\n",
    "    r.tdigest().create(key=f'tdigest:{product_id}')\n",
    "    for value in data:\n",
    "        r.execute_command('TDIGEST.ADD', f'tdigest:{product_id}', value)\n",
    "\n",
    "# Function to get percentiles from T-Digest\n",
    "def get_percentiles(product_id, percentiles):\n",
    "    return r.execute_command('TDIGEST.QUANTILE', f'tdigest:{product_id}', *percentiles)\n",
    "\n",
    "# Detect trends in sales data for each product\n",
    "percentiles_to_check = [0.25, 0.5, 0.75, 0.99]  # 25th, 50th, 75th and 99th percentiles\n",
    "for product_id in sales_data.keys():\n",
    "    percentiles = get_percentiles(product_id, percentiles_to_check)\n",
    "    print(f'Trend for {product_id}:')\n",
    "    for p, value in zip(percentiles_to_check, percentiles):\n",
    "        print(f' > {int(p*100)}th percentile: {value}')\n",
    "\n",
    "# Print the sales data for each product\n",
    "for product_id in sales_data.keys():\n",
    "    print(f\"{product_id}: {r.hget(product_id, 'sales_data')}\")\n"
   ]
  },
  {
   "cell_type": "code",
   "execution_count": null,
   "id": "92417119-75d0-47e8-a33c-b7a377f36b92",
   "metadata": {},
   "outputs": [],
   "source": []
  }
 ],
 "metadata": {
  "kernelspec": {
   "display_name": "Python 3 (ipykernel)",
   "language": "python",
   "name": "python3"
  },
  "language_info": {
   "codemirror_mode": {
    "name": "ipython",
    "version": 3
   },
   "file_extension": ".py",
   "mimetype": "text/x-python",
   "name": "python",
   "nbconvert_exporter": "python",
   "pygments_lexer": "ipython3",
   "version": "3.13.1"
  }
 },
 "nbformat": 4,
 "nbformat_minor": 5
}
