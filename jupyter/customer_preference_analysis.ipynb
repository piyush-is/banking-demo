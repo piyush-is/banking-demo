{
 "cells": [
  {
   "cell_type": "code",
   "execution_count": null,
   "id": "2fae8c80",
   "metadata": {},
   "outputs": [],
   "source": [
    "import redis\n",
    "import json\n",
    "\n",
    "# Define connection variables\n",
    "host = 'localhost'\n",
    "port =  6379\n",
    "password = None #'<password>'\n",
    "\n",
    "# Connect to Redis\n",
    "r = redis.Redis(host=host, port=port, password=password, decode_responses=True)\n",
    "print('Connected to Redis')\n",
    "\n",
    "r.flushdb()"
   ]
  },
  {
   "cell_type": "markdown",
   "id": "use-case-title",
   "metadata": {},
   "source": [
    "# Customer Preference Analysis\n",
    "\n",
    "## Description of the use case\n",
    "This use case involves analyzing and segmenting customer preferences to understand their interests and tailor marketing strategies accordingly. By using Redis Cuckoo Filters, businesses can efficiently manage and query customer preference data.\n",
    "\n",
    "## Redis Data Structures Used\n",
    "- **Cuckoo Filters**: To manage and query customer preferences efficiently.\n",
    "- **Hashes**: To store additional information about customers.\n"
   ]
  },
  {
   "cell_type": "code",
   "execution_count": null,
   "id": "demonstrate-use-case",
   "metadata": {},
   "outputs": [],
   "source": [
    "# Mock data for the use case\n",
    "customer_data = {\n",
    "    'customer_1001': {'name': 'Alice', 'preference': 'home_loan'},\n",
    "    'customer_1002': {'name': 'Bob', 'preference': 'personal_loan'},\n",
    "    'customer_1003': {'name': 'Charlie', 'preference': 'fd_30_days'},\n",
    "    'customer_1004': {'name': 'David', 'preference': 'home_loan'},\n",
    "    'customer_1005': {'name': 'Eve', 'preference': 'personal_loan'},\n",
    "    'customer_1006': {'name': 'Eva', 'preference': 'personal_loan'}\n",
    "}\n",
    "\n",
    "# Use Hashes to store customer information\n",
    "for customer_id, info in customer_data.items():\n",
    "    r.hset(customer_id, mapping=info)\n",
    "\n",
    "# Initialize Cuckoo Filter\n",
    "\n",
    "r.cf().reserve('customer_preferences', 1000)\n",
    "\n",
    "# Function to add customer preferences to Cuckoo Filter\n",
    "def add_customer_preferences():\n",
    "    for customer_id, info in customer_data.items():\n",
    "        r.cf().add('customer_preferences', info['preference'])\n",
    "\n",
    "# Add customer preferences to the Cuckoo Filter\n",
    "add_customer_preferences()\n",
    "\n",
    "# Function to query customer preferences\n",
    "def query_customer_preference(preference):\n",
    "    if r.cf().exists('customer_preferences', preference) == 1:\n",
    "        print(f\"The preference {preference} exists\")\n",
    "    else:\n",
    "        print(f\"The preference {preference} definitely does not exist!\")\n",
    "\n",
    "# Print the customer information\n",
    "for customer_id in customer_data.keys():\n",
    "    print(f\"{customer_id}: {r.hgetall(customer_id)}\")\n",
    "\n",
    "\n",
    "\n",
    "query_customer_preference('fd_1_year')\n",
    "query_customer_preference('demat_ac')\n",
    "query_customer_preference('personal_loan')\n"
   ]
  },
  {
   "cell_type": "code",
   "execution_count": null,
   "id": "3451d8c1-a5d1-4f08-b9f3-f9a6b0b6d224",
   "metadata": {},
   "outputs": [],
   "source": []
  }
 ],
 "metadata": {
  "kernelspec": {
   "display_name": "Python 3 (ipykernel)",
   "language": "python",
   "name": "python3"
  },
  "language_info": {
   "codemirror_mode": {
    "name": "ipython",
    "version": 3
   },
   "file_extension": ".py",
   "mimetype": "text/x-python",
   "name": "python",
   "nbconvert_exporter": "python",
   "pygments_lexer": "ipython3",
   "version": "3.13.1"
  }
 },
 "nbformat": 4,
 "nbformat_minor": 5
}
